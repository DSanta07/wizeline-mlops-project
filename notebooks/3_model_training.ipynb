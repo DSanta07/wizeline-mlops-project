{
 "cells": [
  {
   "cell_type": "code",
   "execution_count": null,
   "metadata": {},
   "outputs": [],
   "source": [
    "import pandas as pd\n",
    "from sklearn.preprocessing import StandardScaler\n",
    "from icecream import ic\n",
    "import sys\n",
    "sys.path.append(\"./../projectname\")\n",
    "from projectname.config import raw_data_dir\n",
    "from projectname.config import clean_data_dir\n",
    "from sklearn.model_selection import train_test_split\n",
    "from sklearn.preprocessing import StandardScaler, OneHotEncoder\n",
    "from sklearn.compose import ColumnTransformer\n",
    "from sklearn.pipeline import Pipeline\n",
    "from sklearn.impute import SimpleImputer\n",
    "from sklearn.linear_model import LogisticRegression\n",
    "from sklearn.ensemble import RandomForestClassifier, GradientBoostingClassifier\n",
    "from sklearn.metrics import classification_report\n",
    "import joblib\n"
   ]
  },
  {
   "cell_type": "code",
   "execution_count": null,
   "metadata": {},
   "outputs": [],
   "source": [
    "# Load the dataset\n",
    "file_path = clean_data_dir / 'hotel_bookings_clean.csv'\n",
    "bookings_df = pd.read_csv(file_path)\n",
    "bookings_df"
   ]
  },
  {
   "cell_type": "markdown",
   "metadata": {},
   "source": [
    "# Models Seleccion Analysis"
   ]
  },
  {
   "cell_type": "markdown",
   "metadata": {},
   "source": [
    "### Columns to Discard:\n",
    " - hotel: The hotel type (City Hotel or Resort Hotel). While interesting, it might not be as predictive and can be indirectly inferred from other features.\n",
    " - arrival_date_month: The month of arrival. Less precise compared to week number and day of the month.\n",
    " - reservation_status: Indicates if the booking is canceled, checked-out, or no-show. This is directly related to the target variable and should be discarded to avoid data leakage.\n",
    " - reservation_status_date: The date when the reservation status was last updated. This can also lead to data leakage.\n",
    " - is_repeated_guest: Indicates if the guest has stayed before. While it can be relevant, it might be less impactful compared to other features. (This column wasn't listed initially, but should be considered if present.)"
   ]
  },
  {
   "cell_type": "code",
   "execution_count": null,
   "metadata": {},
   "outputs": [],
   "source": [
    "\n",
    "# Drop the unnamed column\n",
    "bookings_df.drop(columns=[\"Unnamed: 0\"], inplace=True)\n",
    "\n",
    "# Separate features and target variable\n",
    "X = bookings_df.drop(columns=[\"is_canceled\"])\n",
    "y = bookings_df[\"is_canceled\"]\n",
    "\n",
    "# Identify categorical and numerical features\n",
    "categorical_cols = ['meal', 'country', 'market_segment', 'distribution_channel', 'reserved_room_type',\n",
    "                    'assigned_room_type', 'deposit_type', 'customer_type', 'agent', 'company', 'is_repeated_guest']\n",
    "\n",
    "numerical_cols = ['lead_time', 'arrival_date_year', 'arrival_date_week_number', \n",
    "                  'arrival_date_day_of_month', 'stays_in_weekend_nights', 'stays_in_week_nights', \n",
    "                  'adults', 'children', 'babies', 'adr', 'days_in_waiting_list', \n",
    "                  'required_car_parking_spaces', 'total_of_special_requests']\n",
    "\n",
    "\n"
   ]
  },
  {
   "cell_type": "code",
   "execution_count": null,
   "metadata": {},
   "outputs": [],
   "source": [
    "# Preprocessing for numerical data: impute missing values and scale\n",
    "num_transformer = Pipeline(steps=[\n",
    "    ('imputer', SimpleImputer(strategy='median')),\n",
    "    ('scaler', StandardScaler())\n",
    "])\n",
    "\n",
    "# Preprocessing for categorical data: impute missing values and one-hot encode\n",
    "cat_transformer = Pipeline(steps=[\n",
    "    ('imputer', SimpleImputer(strategy='most_frequent')),\n",
    "    ('onehot', OneHotEncoder(handle_unknown='ignore'))\n",
    "])\n",
    "\n",
    "# Combine preprocessing steps\n",
    "preprocessor = ColumnTransformer(\n",
    "    transformers=[\n",
    "        ('num', num_transformer, numerical_cols),\n",
    "        ('cat', cat_transformer, categorical_cols)\n",
    "    ])\n",
    "\n",
    "# Split the data into training and testing sets\n",
    "X_train, X_test, y_train, y_test = train_test_split(X, y, test_size=0.2, random_state=42)\n",
    "\n",
    "# Define the models\n",
    "models = {\n",
    "    \"Logistic Regression\": LogisticRegression(max_iter=1000, random_state=42),\n",
    "    \"Random Forest\": RandomForestClassifier(n_estimators=100, random_state=42),\n",
    "    \"Gradient Boosting\": GradientBoostingClassifier(n_estimators=100, random_state=42)\n",
    "}\n",
    "\n",
    "# Train and evaluate each model\n",
    "results = {}\n",
    "\n",
    "for model_name, model in models.items():\n",
    "    # Create a pipeline with the preprocessor and the model\n",
    "    clf = Pipeline(steps=[\n",
    "        ('preprocessor', preprocessor),\n",
    "        ('classifier', model)\n",
    "    ])\n",
    "    \n",
    "    # Train the model\n",
    "    clf.fit(X_train, y_train)\n",
    "    \n",
    "    # Make predictions\n",
    "    y_pred = clf.predict(X_test)\n",
    "    \n",
    "    # Evaluate the model\n",
    "    report = classification_report(y_test, y_pred, output_dict=True)\n",
    "    results[model_name] = report\n",
    "\n",
    "results"
   ]
  },
  {
   "cell_type": "code",
   "execution_count": null,
   "metadata": {},
   "outputs": [],
   "source": [
    "results_df = pd.DataFrame(results).transpose()\n",
    "results_df"
   ]
  },
  {
   "cell_type": "code",
   "execution_count": null,
   "metadata": {},
   "outputs": [],
   "source": [
    "results_df.to_csv('../data/results/results_df.csv')"
   ]
  },
  {
   "cell_type": "markdown",
   "metadata": {},
   "source": [
    "## Random Forest Train"
   ]
  },
  {
   "cell_type": "code",
   "execution_count": null,
   "metadata": {},
   "outputs": [],
   "source": [
    "# Define the numerical and categorical columns\n",
    "categorical_cols = ['meal', 'country', 'market_segment', 'distribution_channel', 'reserved_room_type',\n",
    "                    'assigned_room_type', 'deposit_type', 'customer_type', 'agent', 'company', 'is_repeated_guest']\n",
    "\n",
    "numerical_cols = ['lead_time', 'arrival_date_year', 'arrival_date_week_number', \n",
    "                  'arrival_date_day_of_month', 'stays_in_weekend_nights', 'stays_in_week_nights', \n",
    "                  'adults', 'children', 'babies', 'adr', 'days_in_waiting_list', \n",
    "                  'required_car_parking_spaces', 'total_of_special_requests']\n",
    "\n",
    "# Preprocessor\n",
    "random_forest_preprocessor = ColumnTransformer(\n",
    "    transformers=[\n",
    "        ('num', StandardScaler(), numerical_cols),\n",
    "        ('cat', OneHotEncoder(handle_unknown='ignore'), categorical_cols)\n",
    "    ])\n",
    "\n",
    "# Create a pipeline with preprocessing and the model\n",
    "random_forest_model_pipeline = Pipeline(steps=[\n",
    "    ('preprocessor', random_forest_preprocessor),\n",
    "    ('classifier', RandomForestClassifier(random_state=42))\n",
    "])\n",
    "\n",
    "# Train the pipeline\n",
    "random_forest_model_pipeline.fit(X_train, y_train)"
   ]
  },
  {
   "cell_type": "code",
   "execution_count": null,
   "metadata": {},
   "outputs": [],
   "source": [
    "# Make predictions\n",
    "y_pred = random_forest_model_pipeline.predict(X_test)\n",
    "    \n",
    "# Evaluate the model\n",
    "report = classification_report(y_test, y_pred, output_dict=True)\n",
    "report"
   ]
  },
  {
   "cell_type": "markdown",
   "metadata": {},
   "source": [
    "### Save the Random Forest Pipeline and train and test datasets"
   ]
  },
  {
   "cell_type": "code",
   "execution_count": null,
   "metadata": {},
   "outputs": [],
   "source": [
    "# Load the saved pipeline\n",
    "joblib.dump(random_forest_model_pipeline, '../data/models/random_forest_model_pipeline.pkl')"
   ]
  },
  {
   "cell_type": "code",
   "execution_count": null,
   "metadata": {},
   "outputs": [],
   "source": [
    "# Save the test set to a CSV file\n",
    "test_set_filename = '../data/clean/X_test.csv'\n",
    "X_test.to_csv(test_set_filename, index=False)\n",
    "\n",
    "# Save the target values of the test set to a CSV file\n",
    "test_target_filename = '../data/clean/y_test.csv'\n",
    "y_test.to_csv(test_target_filename, index=False)"
   ]
  }
 ],
 "metadata": {
  "kernelspec": {
   "display_name": "venv",
   "language": "python",
   "name": "python3"
  },
  "language_info": {
   "codemirror_mode": {
    "name": "ipython",
    "version": 3
   },
   "file_extension": ".py",
   "mimetype": "text/x-python",
   "name": "python",
   "nbconvert_exporter": "python",
   "pygments_lexer": "ipython3",
   "version": "3.12.3"
  }
 },
 "nbformat": 4,
 "nbformat_minor": 2
}
