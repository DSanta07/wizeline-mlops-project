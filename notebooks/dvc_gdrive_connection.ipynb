{
 "cells": [
  {
   "cell_type": "code",
   "execution_count": null,
   "metadata": {},
   "outputs": [],
   "source": [
    "drive_url = 'https://drive.google.com/drive/folders/1JZrO03cLrge-WbLawwfXHr7E1eVNXypD'"
   ]
  },
  {
   "cell_type": "markdown",
   "metadata": {},
   "source": [
    "Add remote GDrive remote folder as storage for DVC"
   ]
  },
  {
   "cell_type": "code",
   "execution_count": null,
   "metadata": {},
   "outputs": [],
   "source": [
    "!dvc remote add -d storage_data gdrive://1JZrO03cLrge-WbLawwfXHr7E1eVNXypD"
   ]
  },
  {
   "cell_type": "markdown",
   "metadata": {},
   "source": [
    "Push the changes to remote storage"
   ]
  },
  {
   "cell_type": "code",
   "execution_count": null,
   "metadata": {},
   "outputs": [],
   "source": [
    "!dvc push"
   ]
  },
  {
   "cell_type": "markdown",
   "metadata": {},
   "source": [
    "Set the credentials (for each GDrive remote)"
   ]
  },
  {
   "cell_type": "code",
   "execution_count": null,
   "metadata": {},
   "outputs": [],
   "source": [
    "!dvc remote modify storage_data gdrive_client_id '1064966860231-7tt09cj65b1rt2l165hk0ddfhhujqr2i.apps.googleusercontent.com'\n",
    "!dvc remote modify storage_data gdrive_client_secret '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'"
   ]
  }
 ],
 "metadata": {
  "language_info": {
   "name": "python"
  }
 },
 "nbformat": 4,
 "nbformat_minor": 2
}
