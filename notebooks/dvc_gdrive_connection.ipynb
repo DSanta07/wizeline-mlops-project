{
 "cells": [
  {
   "cell_type": "code",
   "execution_count": null,
   "metadata": {},
   "outputs": [],
   "source": [
    "drive_url = 'https://drive.google.com/drive/folders/1JZrO03cLrge-WbLawwfXHr7E1eVNXypD'"
   ]
  },
  {
   "cell_type": "markdown",
   "metadata": {},
   "source": [
    "Add remote GDrive remote folder as storage for DVC"
   ]
  },
  {
   "cell_type": "code",
   "execution_count": null,
   "metadata": {},
   "outputs": [],
   "source": [
    "!dvc remote add -d storage_data gdrive://1JZrO03cLrge-WbLawwfXHr7E1eVNXypD"
   ]
  }
 ],
 "metadata": {
  "language_info": {
   "name": "python"
  }
 },
 "nbformat": 4,
 "nbformat_minor": 2
}
